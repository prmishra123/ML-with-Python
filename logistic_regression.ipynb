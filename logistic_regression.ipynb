{
 "cells": [
  {
   "cell_type": "code",
   "execution_count": 1,
   "metadata": {},
   "outputs": [],
   "source": [
    "import numpy as np\n",
    "import matplotlib.pyplot as plt\n",
    "import scipy.optimize as opt\n",
    "import pandas as pd\n",
    "import numpy"
   ]
  },
  {
   "cell_type": "code",
   "execution_count": 2,
   "metadata": {},
   "outputs": [
    {
     "data": {
      "text/plain": [
       "<function matplotlib.pyplot.show(*args, **kw)>"
      ]
     },
     "execution_count": 2,
     "metadata": {},
     "output_type": "execute_result"
    },
    {
     "data": {
      "image/png": "[encoded data removed]",
      "text/plain": [
       "<Figure size 432x288 with 1 Axes>"
      ]
     },
     "metadata": {
      "needs_background": "light"
     },
     "output_type": "display_data"
    }
   ],
   "source": [
    "z=np.arange(-6,6,0.1)\n",
    "sigmoid=1/(1+np.exp(-z))\n",
    "fig=plt.figure('cost function')\n",
    "plt.plot(z,sigmoid)\n",
    "plt.grid(True)\n",
    "plt.xlabel('input z')\n",
    "plt.ylabel('output')\n",
    "plt.title('sigmoid fucntion graph')\n",
    "plt.show"
   ]
  },
  {
   "cell_type": "code",
   "execution_count": 3,
   "metadata": {},
   "outputs": [
    {
     "data": {
      "text/plain": [
       "(2, 3)"
      ]
     },
     "execution_count": 3,
     "metadata": {},
     "output_type": "execute_result"
    }
   ],
   "source": [
    "t=np.ones((2,3))\n",
    "t.shape"
   ]
  },
  {
   "cell_type": "code",
   "execution_count": 4,
   "metadata": {},
   "outputs": [],
   "source": [
    "def hypothesis(theta, X, n):\n",
    "    h = np.ones((X.shape[0],1))\n",
    "    theta = theta.reshape(1,n+1)\n",
    "    for i in range(0,X.shape[0]):\n",
    "        h[i] = 1 / (1 + np.exp(-float(np.matmul(theta, X[i]))))\n",
    "    h = h.reshape(X.shape[0])\n",
    "    return h"
   ]
  },
  {
   "cell_type": "code",
   "execution_count": 10,
   "metadata": {},
   "outputs": [],
   "source": [
    "def BGD(theta, alpha, num_iters, h, X, y, n):\n",
    "    theta_history = np.ones((num_iters,n+1))\n",
    "    cost = np.ones(num_iters)\n",
    "    for i in range(0,num_iters):\n",
    "        theta[0] = theta[0] - (alpha/X.shape[0]) * sum(h - y)\n",
    "        for j in range(1,n+1):\n",
    "            theta[j]=theta[j]-(alpha/X.shape[0])*sum((h-y)\n",
    "                               *X.transpose()[j])\n",
    "        theta_history[i] = theta\n",
    "        h = hypothesis(theta, X, n)\n",
    "        cost[i]=(-1/X.shape[0])*sum(y*np.log(h)+(1-y)*np.log(1 - h))\n",
    "    theta = theta.reshape(1,n+1)\n",
    "    return theta, theta_history, cost"
   ]
  },
  {
   "cell_type": "code",
   "execution_count": 11,
   "metadata": {},
   "outputs": [],
   "source": [
    "def logistic_regression(X, y, alpha, num_iters):\n",
    "    n = X.shape[1]\n",
    "    one_column = np.ones((X.shape[0],1))\n",
    "    X = np.concatenate((one_column, X), axis = 1)\n",
    "    # initializing the parameter vector...\n",
    "    theta = np.zeros(n+1)\n",
    "    # hypothesis calculation....\n",
    "    h = hypothesis(theta, X, n)\n",
    "    # returning the optimized parameters by Gradient Descent...\n",
    "    theta,theta_history,cost = BGD(theta,alpha,num_iters,h,X,y,n)\n",
    "    return theta, theta_history, cost"
   ]
  },
  {
   "cell_type": "code",
   "execution_count": 12,
   "metadata": {},
   "outputs": [],
   "source": [
    "data = np.loadtxt('logistic_dataset.txt', delimiter=',')\n",
    "X_train = data[:,[0,1]] # feature-set\n",
    "y_train = data[:,2] # label-set"
   ]
  },
  {
   "cell_type": "code",
   "execution_count": 13,
   "metadata": {},
   "outputs": [
    {
     "data": {
      "text/plain": [
       "<matplotlib.legend.Legend at 0x124e67d29e8>"
      ]
     },
     "execution_count": 13,
     "metadata": {},
     "output_type": "execute_result"
    },
    {
     "data": {
      "image/png": "[encoded data removed]",
      "text/plain": [
       "<Figure size 432x288 with 1 Axes>"
      ]
     },
     "metadata": {
      "needs_background": "light"
     },
     "output_type": "display_data"
    }
   ],
   "source": [
    "x0 = np.ones((np.array([x for x in y_train if x == 0]).shape[0], \n",
    "              X_train.shape[1]))\n",
    "x1 = np.ones((np.array([x for x in y_train if x == 1]).shape[0], \n",
    "              X_train.shape[1]))\n",
    "#x0 and x1 are matrices containing +ve and -ve examples from the\n",
    "#dataset, initialized to 1\n",
    "k0 = k1 = 0\n",
    "for i in range(0,y_train.shape[0]):\n",
    "    if y_train[i] == 0:\n",
    "        x0[k0] = X_train[i]\n",
    "        k0 = k0 + 1\n",
    "    else:\n",
    "        x1[k1] = X_train[i]\n",
    "        k1 = k1 + 1\n",
    "X = [x0, x1]\n",
    "colors = [\"green\", \"blue\"] # 2 distinct colours for 2 classes \n",
    "import matplotlib.pyplot as plt\n",
    "for x, c in zip(X, colors):\n",
    "    if c == \"green\":\n",
    "        plt.scatter(x[:,0],x[:,1],color = c,label = \"Not Admitted\")\n",
    "    else:\n",
    "        plt.scatter(x[:,0], x[:,1], color = c, label = \"Admitted\")\n",
    "plt.xlabel(\"Marks obtained in 1st Exam\")\n",
    "plt.ylabel(\"Marks obtained in 2nd Exam\")\n",
    "plt.legend()"
   ]
  },
  {
   "cell_type": "code",
   "execution_count": 14,
   "metadata": {},
   "outputs": [],
   "source": [
    "num_iters = 100000\n",
    "theta,theta_history,cost=logistic_regression(X_train,y_train,0.001,num_iters = 100000)"
   ]
  },
  {
   "cell_type": "code",
   "execution_count": 15,
   "metadata": {},
   "outputs": [
    {
     "name": "stdout",
     "output_type": "stream",
     "text": [
      "[[-4.81180027  0.04528064  0.03819149]]\n"
     ]
    }
   ],
   "source": [
    "print(theta)"
   ]
  },
  {
   "cell_type": "code",
   "execution_count": 17,
   "metadata": {},
   "outputs": [
    {
     "data": {
      "text/plain": [
       "Text(0, 0.5, 'Cost')"
      ]
     },
     "execution_count": 17,
     "metadata": {},
     "output_type": "execute_result"
    },
    {
     "data": {
      "image/png": "[encoded data removed]",
      "text/plain": [
       "<Figure size 432x288 with 1 Axes>"
      ]
     },
     "metadata": {
      "needs_background": "light"
     },
     "output_type": "display_data"
    }
   ],
   "source": [
    "cost = list(cost)\n",
    "n_iterations = [x for x in range(1,100001)]\n",
    "plt.plot(n_iterations, cost)\n",
    "plt.xlabel('No. of iterations')\n",
    "plt.ylabel('Cost')"
   ]
  },
  {
   "cell_type": "code",
   "execution_count": 18,
   "metadata": {},
   "outputs": [],
   "source": [
    "X_train = np.concatenate((np.ones((X_train.shape[0],1)), X_train)\n",
    "                          , axis = 1)\n",
    "h = hypothesis(theta, X_train, X_train.shape[1] - 1)\n",
    "# Taking 0.5 as threshold:\n",
    "for i in range(0, h.shape[0]):\n",
    "    if h[i] > 0.5:\n",
    "        h[i] = 1\n",
    "    else:\n",
    "        h[i] = 0"
   ]
  },
  {
   "cell_type": "code",
   "execution_count": 19,
   "metadata": {},
   "outputs": [],
   "source": [
    "k = 0\n",
    "for i in range(0, h.shape[0]):\n",
    "    if h[i] == y_train[i]:\n",
    "        k = k + 1\n",
    "accuracy = k/y_train.shape[0]"
   ]
  },
  {
   "cell_type": "code",
   "execution_count": 20,
   "metadata": {},
   "outputs": [
    {
     "data": {
      "text/plain": [
       "0.91"
      ]
     },
     "execution_count": 20,
     "metadata": {},
     "output_type": "execute_result"
    }
   ],
   "source": [
    "accuracy"
   ]
  },
  {
   "cell_type": "code",
   "execution_count": null,
   "metadata": {},
   "outputs": [],
   "source": []
  }
 ],
 "metadata": {
  "kernelspec": {
   "display_name": "Python 3",
   "language": "python",
   "name": "python3"
  },
  "language_info": {
   "codemirror_mode": {
    "name": "ipython",
    "version": 3
   },
   "file_extension": ".py",
   "mimetype": "text/x-python",
   "name": "python",
   "nbconvert_exporter": "python",
   "pygments_lexer": "ipython3",
   "version": "3.7.3"
  }
 },
 "nbformat": 4,
 "nbformat_minor": 2
}
