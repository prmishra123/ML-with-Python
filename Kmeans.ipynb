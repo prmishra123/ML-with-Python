{
 "cells": [
  {
   "cell_type": "markdown",
   "metadata": {},
   "source": [
    "##K-Means"
   ]
  },
  {
   "cell_type": "markdown",
   "metadata": {},
   "source": [
    "K-Means clustering intends to partition n objects into k clusters in which each object belongs to the cluster with the nearest mean. This method produces exactly k different clusters of greatest possible distinction. The best number of clusters k leading to the greatest separation (distance) is not known as a priori and must be computed from the data. \n",
    "\n",
    "Algorithm\t\t\n",
    "1.. Clusters the data into k groups where k  is predefined.\n",
    "2.. Select k points at random as cluster centers.\n",
    "3.. Assign objects to their closest cluster center according to the Euclidean distance function.\n",
    "4.. Calculate the centroid or mean of all objects in each cluster.\n",
    "5.. Repeat steps 2, 3 and 4 until the same points are assigned to each cluster in consecutive rounds.\n",
    "\n",
    "K-Means is relatively an efficient method. However, we need to specify the number of clusters, in advance and the final results are sensitive to initialization and often terminates at a local optimum. Unfortunately there is no global theoretical method to find the optimal number of clusters. A practical approach is to compare the outcomes of multiple runs with different k and choose the best one based on a predefined criterion. In general, a large k probably decreases the error but increases the risk of overfitting."
   ]
  },
  {
   "cell_type": "code",
   "execution_count": 1,
   "metadata": {},
   "outputs": [],
   "source": [
    "import matplotlib.pyplot as plt\n",
    "from matplotlib import style\n",
    "style.use('ggplot')\n",
    "import numpy as np\n",
    "import matplotlib.animation as animation\n",
    "import time"
   ]
  },
  {
   "cell_type": "code",
   "execution_count": 2,
   "metadata": {},
   "outputs": [],
   "source": [
    "x=np.array([[1,2],\n",
    "           [1.5,1.8],\n",
    "           [5,8],\n",
    "           [8,8],\n",
    "           [1,0.6],\n",
    "           [9,11]])"
   ]
  },
  {
   "cell_type": "code",
   "execution_count": 3,
   "metadata": {},
   "outputs": [],
   "source": [
    "x=np.array([[2,10],\n",
    "           [2,5],\n",
    "           [8,4],\n",
    "           [5,8],\n",
    "           [7,5],\n",
    "           [6,4],\n",
    "           [1,2],\n",
    "           [4,9]])"
   ]
  },
  {
   "cell_type": "code",
   "execution_count": 4,
   "metadata": {},
   "outputs": [
    {
     "data": {
      "text/plain": [
       "<function matplotlib.pyplot.show(*args, **kw)>"
      ]
     },
     "execution_count": 4,
     "metadata": {},
     "output_type": "execute_result"
    },
    {
     "data": {
      "image/png": "[encoded data removed]",
      "text/plain": [
       "<Figure size 432x288 with 1 Axes>"
      ]
     },
     "metadata": {
      "needs_background": "light"
     },
     "output_type": "display_data"
    }
   ],
   "source": [
    "plt.scatter(x[:,0],x[:,1],s=90,marker='o')\n",
    "plt.show"
   ]
  },
  {
   "cell_type": "code",
   "execution_count": 5,
   "metadata": {},
   "outputs": [],
   "source": [
    "colors=10*['r','g','b','y']"
   ]
  },
  {
   "cell_type": "code",
   "execution_count": 6,
   "metadata": {},
   "outputs": [],
   "source": [
    "class K_means:\n",
    "    list=[]\n",
    "    def __init__(self, k=2,tol=0.001,max_iter=300): #'''why is max_iter=300?'''\n",
    "        self.k=k\n",
    "        self.tol=tol\n",
    "        self.max_iter=max_iter\n",
    "        \n",
    "        #we will use this dictionay to collect the x and y co-ordinates of the centroids as we move ahead.\n",
    "        self.collection={}\n",
    "        \n",
    "        #used to run the loop one more time after the optimaization is complete (not necessary though)\n",
    "        self.run_once_more=True\n",
    "        \n",
    "    def fit(self,data):\n",
    "        #initialize centroids as empty dictionary\n",
    "        #in this dictionary we'll have k-keys corresponding to k-groups\n",
    "        #each group will have a centroid which we'll store in the values of those keys\n",
    "        \n",
    "        self.centroids={}\n",
    "        \n",
    "        #take first two points as centroids (any random points would do but taking 1st k points makes it easier)\n",
    "        for i in range(self.k):\n",
    "            self.centroids[i]=data[i]              #taking 1st two points #self.centroids=[[1,2],[1.5,1.8]]\n",
    "            self.collection[i]=[[] for m in range(2)]\n",
    "            \n",
    "            #takes and store the initial x and y co-ordinates store them in our wonderful collection of centroids\n",
    "            self.collection[i][0].append(self.centroids[i][0])\n",
    "            self.collection[i][1].append(self.centroids[i][1])\n",
    "            \n",
    "        #this loop will run maximum 300 times, see the class constructor \n",
    "        for i in range(self.max_iter):\n",
    "            self.classifications={}\n",
    "            \n",
    "            for i in range(self.k):\n",
    "                #initialize classifications for every group as empty list (classifications are nothing but groups)\n",
    "                self.classifications[i]=[]           #{0:[],1:[]}\n",
    "                #self.collection[i]=[[] for m in range(2)]\n",
    "                #print self.collection\n",
    "                \n",
    "                \n",
    "                \n",
    "            for featureset in data:                  #featureset = point\n",
    "                #take each point from the dataset and calculate it's distance with the two randomly selected points\n",
    "                #store the two distances in a list\n",
    "                \n",
    "                distances=[np.linalg.norm(featureset-self.centroids[centroid]) for centroid in self.centroids]\n",
    "                \n",
    "                #now the index of the minimum distance will tell us which group the point belongs to, so store the index\n",
    "                #so add that point into that group's list\n",
    "                #{0:[points will be append here],1:[or here]}\n",
    "                \n",
    "                classification=distances.index(min(distances))\n",
    "                self.classifications[classification].append(featureset)\n",
    "            \n",
    "            #store the two randomly selected points so that they can be used later\n",
    "            prev_centroids=dict(self.centroids)          #here the dict keyword is unnecessary\n",
    "\n",
    "            for classification in self.classifications:\n",
    "                #now for each group there are points appended in their list(see line 32)\n",
    "                #now it's time to calculate the new centroids, this is done by taking average of all points and saving them\n",
    "                #into the centroids dictionary(where we had taken two random values initially, now we'll take this average)\n",
    "                \n",
    "                self.centroids[classification]=np.average(self.classifications[classification],axis=0)\n",
    "                \n",
    "                #now since the new centroids are calculated for each group, we'll store the x and y co-ordinates in seperate lists\n",
    "                #for each group\n",
    "                #eg: {\n",
    "                #     0: [[1.0, 1.0, 1.1666666666666667, 1.1666666666666667, 1.1666666666666667],\n",
    "                #         [2.0, 2.0, 1.4666666666666666, 1.4666666666666666, 1.4666666666666666]],\n",
    "                #    1: [[1.5, 4.9, 7.333333333333333, 7.333333333333333, 7.333333333333333],\n",
    "                #        [1.8, 5.880000000000001, 9.0, 9.0, 9.0]]\n",
    "                #   }\n",
    "                self.collection[classification][0].append(self.centroids[classification][0])\n",
    "                self.collection[classification][1].append(self.centroids[classification][1])\n",
    "                \n",
    "                \n",
    "\n",
    "            optimized=True\n",
    "\n",
    "            for c in self.centroids:\n",
    "                #store the previours values in a different list (see line 41)\n",
    "                orignal_centroid=prev_centroids[c]\n",
    "                current_centroid=self.centroids[c]\n",
    "                \n",
    "                #if the change in position of the new centorid from the previous centroid is more than tolerance then\n",
    "                #then we need to optimize it further, hence optimized=False meaning more optimization has to be done.\n",
    "                if np.sum((self.centroids[c]-orignal_centroid)/orignal_centroid*100)>self.tol:\n",
    "                    optimized=False\n",
    "            \n",
    "            #if sufficiently optimized then stop\n",
    "            if optimized:\n",
    "                if self.run_once_more:\n",
    "                    break\n",
    "                else:\n",
    "                    self.run_once_more=True\n",
    "            \n",
    "    def predict(self,data):\n",
    "        #now to predict from test data points, we calculate the distance of the test point with the centroids of each group\n",
    "        #whichever group's centroid has minimum distance with the test point, that group is returnd as the answer\n",
    "        \n",
    "        distances=[np.linalg.norm(data-self.centroids[centroid]) for centroid in self.centroids]\n",
    "        classification=distances.index(min(distances))\n",
    "        return classification\n",
    "    \n",
    "    def plot_centroid(self):\n",
    "        '''now is the time put our precious collection on display'''\n",
    "        #we enter each group(like a boss) and plot the x and y co-ordinates.\n",
    "        for classification in self.collection:\n",
    "            plt.scatter(self.collection[classification][0],self.collection[classification][1])\n",
    "            plt.plot(self.collection[classification][0],self.collection[classification][1])\n",
    "        plt.show\n",
    "    "
   ]
  },
  {
   "cell_type": "code",
   "execution_count": 15,
   "metadata": {},
   "outputs": [
    {
     "data": {
      "text/plain": [
       "{0: [[2, 3.6666666666666665, 3.6666666666666665], [10, 9.0, 9.0]],\n",
       " 1: [[2, 1.5, 1.5], [5, 3.5, 3.5]],\n",
       " 2: [[8, 7.0, 7.0], [4, 4.333333333333333, 4.333333333333333]]}"
      ]
     },
     "execution_count": 15,
     "metadata": {},
     "output_type": "execute_result"
    }
   ],
   "source": [
    "clf=K_means(k=3)\n",
    "clf.fit(x)\n",
    "clf.collection"
   ]
  },
  {
   "cell_type": "code",
   "execution_count": 8,
   "metadata": {},
   "outputs": [],
   "source": [
    "clf.fit(x)"
   ]
  },
  {
   "cell_type": "code",
   "execution_count": 9,
   "metadata": {},
   "outputs": [
    {
     "data": {
      "image/png": "[encoded data removed]",
      "text/plain": [
       "<Figure size 432x288 with 1 Axes>"
      ]
     },
     "metadata": {
      "needs_background": "light"
     },
     "output_type": "display_data"
    }
   ],
   "source": [
    "#this block is to show how the centorid is moving/shifting as the program progresses\n",
    "\n",
    "for centroid in clf.centroids:\n",
    "    plt.scatter(clf.centroids[centroid][0], clf.centroids[centroid][1], marker='o', color='k',s=50,linewidth=1)\n",
    "\n",
    "for classification in clf.classifications:\n",
    "    color=colors[classification]\n",
    "    for featureset in clf.classifications[classification]:\n",
    "        plt.scatter(featureset[0],featureset[1],marker='x',color=color,s=50,linewidth=1)\n",
    "clf.plot_centroid()"
   ]
  },
  {
   "cell_type": "code",
   "execution_count": 10,
   "metadata": {},
   "outputs": [
    {
     "data": {
      "image/png": "[encoded data removed]",
      "text/plain": [
       "<Figure size 432x288 with 1 Axes>"
      ]
     },
     "metadata": {
      "needs_background": "light"
     },
     "output_type": "display_data"
    }
   ],
   "source": [
    "for classification in clf.classifications:\n",
    "    color=colors[classification]\n",
    "    for featureset in clf.classifications[classification]:\n",
    "        plt.scatter(featureset[0],featureset[1],marker='o',color=color,s=50,linewidth=1)\n",
    "#clf.plot_centroid()"
   ]
  },
  {
   "cell_type": "code",
   "execution_count": 11,
   "metadata": {},
   "outputs": [
    {
     "data": {
      "text/plain": [
       "0"
      ]
     },
     "execution_count": 11,
     "metadata": {},
     "output_type": "execute_result"
    }
   ],
   "source": [
    "clf.predict([7,8])"
   ]
  },
  {
   "cell_type": "code",
   "execution_count": null,
   "metadata": {},
   "outputs": [],
   "source": [
    "\n"
   ]
  }
 ],
 "metadata": {
  "kernelspec": {
   "display_name": "Python 3",
   "language": "python",
   "name": "python3"
  },
  "language_info": {
   "codemirror_mode": {
    "name": "ipython",
    "version": 3
   },
   "file_extension": ".py",
   "mimetype": "text/x-python",
   "name": "python",
   "nbconvert_exporter": "python",
   "pygments_lexer": "ipython3",
   "version": "3.5.6"
  }
 },
 "nbformat": 4,
 "nbformat_minor": 2
}
