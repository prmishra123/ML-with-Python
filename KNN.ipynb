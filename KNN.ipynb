{
 "cells": [
  {
   "cell_type": "code",
   "execution_count": 1,
   "metadata": {},
   "outputs": [],
   "source": [
    "import numpy as np\n",
    "import matplotlib.pyplot as plt\n",
    "from matplotlib import style\n",
    "style.use('fivethirtyeight')\n",
    "import time as t"
   ]
  },
  {
   "cell_type": "code",
   "execution_count": 2,
   "metadata": {},
   "outputs": [],
   "source": [
    "data_set={'k':[[2,2],[2,4,],[3,3],[4,2]],'r':[[6,7],[7,6],[7,9],[8,7]]}\n",
    "target_point=[5,6]"
   ]
  },
  {
   "cell_type": "code",
   "execution_count": 3,
   "metadata": {},
   "outputs": [
    {
     "data": {
      "text/plain": [
       "<function matplotlib.pyplot.show(*args, **kw)>"
      ]
     },
     "execution_count": 3,
     "metadata": {},
     "output_type": "execute_result"
    },
    {
     "data": {
      "image/png": "[encoded data removed]",
      "text/plain": [
       "<Figure size 432x288 with 1 Axes>"
      ]
     },
     "metadata": {
      "needs_background": "light"
     },
     "output_type": "display_data"
    }
   ],
   "source": [
    "plt.xlabel('x')\n",
    "plt.ylabel('y')\n",
    "\n",
    "for i in data_set:\n",
    "    for ii in data_set[i]:\n",
    "        plt.scatter(ii[0],ii[1],s=100,color=i)\n",
    "plt.scatter(target_point[0],target_point[1],s=50)\n",
    "plt.show"
   ]
  },
  {
   "cell_type": "code",
   "execution_count": 4,
   "metadata": {},
   "outputs": [],
   "source": [
    "def class_counts(data):\n",
    "    counts={}\n",
    "    for row in data:\n",
    "        label=row\n",
    "        if label not in counts:\n",
    "            counts[label]=0\n",
    "        counts[label]+=1\n",
    "    return counts"
   ]
  },
  {
   "cell_type": "code",
   "execution_count": 5,
   "metadata": {},
   "outputs": [
    {
     "data": {
      "text/plain": [
       "{'k': 1, 'r': 1}"
      ]
     },
     "execution_count": 5,
     "metadata": {},
     "output_type": "execute_result"
    }
   ],
   "source": [
    "class_counts(data_set)"
   ]
  },
  {
   "cell_type": "code",
   "execution_count": 6,
   "metadata": {},
   "outputs": [],
   "source": [
    "def k_nearest_neighbours(data,predict,k=4):\n",
    "    dist=[]\n",
    "    rev={}\n",
    "    for group in data:\n",
    "        for features in data[group]:\n",
    "            distance=np.linalg.norm(np.array(features)-np.array(predict))\n",
    "            dist.append([distance,group])\n",
    "    sorted_dist = sorted(dist)        \n",
    "    votes=[i[1] for i in sorted_dist[:k]]\n",
    "    uniqueVotes=class_counts(votes)\n",
    "    for vote in uniqueVotes:\n",
    "        rev[uniqueVotes[vote]]=vote\n",
    "    #data[rev[max(rev)]].append(predict)\n",
    "    return rev[max(rev)]"
   ]
  },
  {
   "cell_type": "code",
   "execution_count": 7,
   "metadata": {},
   "outputs": [
    {
     "name": "stdout",
     "output_type": "stream",
     "text": [
      "r\n",
      "{'k': [[2, 2], [2, 4], [3, 3], [4, 2]], 'r': [[6, 7], [7, 6], [7, 9], [8, 7]]}\n"
     ]
    }
   ],
   "source": [
    "print (k_nearest_neighbours(data_set,target_point,3))\n",
    "print (data_set)"
   ]
  },
  {
   "cell_type": "code",
   "execution_count": 8,
   "metadata": {},
   "outputs": [],
   "source": [
    "test_set={'r': [[6, 5], [7, 7], [8, 6]], 'k': [[1, 2], [2, 3], [3, 1]]}"
   ]
  },
  {
   "cell_type": "code",
   "execution_count": 15,
   "metadata": {},
   "outputs": [],
   "source": [
    "def accuracy(k):\n",
    "    correct=0\n",
    "    total=0\n",
    "    for group in test_set:\n",
    "        for data in test_set[group]:\n",
    "            vote=k_nearest_neighbours(data_set,target_point,k)\n",
    "            #print vote , group\n",
    "            if group==vote:\n",
    "                correct+=1\n",
    "                #print correct\n",
    "            total+=1\n",
    "    #print ('Accuracy:',correct/float(total))\n",
    "    return correct/float(total)"
   ]
  },
  {
   "cell_type": "code",
   "execution_count": 16,
   "metadata": {},
   "outputs": [
    {
     "name": "stdout",
     "output_type": "stream",
     "text": [
      "time:  1  :  0.0032744407653808594\n",
      "time:  3  :  0.0009992122650146484\n",
      "time:  5  :  0.003968000411987305\n",
      "time:  7  :  0.0\n",
      "time:  9  :  0.0040242671966552734\n",
      "time:  11  :  0.0\n",
      "time:  13  :  0.0011417865753173828\n",
      "time:  15  :  0.001626729965209961\n",
      "time:  17  :  0.0009982585906982422\n",
      "time:  19  :  0.000985860824584961\n",
      "time:  21  :  0.0\n",
      "time:  23  :  0.001985788345336914\n",
      "time:  25  :  0.0\n",
      "time:  27  :  0.004688739776611328\n",
      "time:  29  :  0.0014462471008300781\n",
      "time:  31  :  0.0016396045684814453\n",
      "time:  33  :  0.002161741256713867\n",
      "time:  35  :  0.001993417739868164\n",
      "time:  37  :  0.0010080337524414062\n",
      "time:  39  :  0.0\n",
      "time:  41  :  0.0039408206939697266\n",
      "time:  43  :  0.0009968280792236328\n",
      "time:  45  :  0.0\n",
      "time:  47  :  0.004347801208496094\n",
      "time:  49  :  0.0009989738464355469\n",
      "time:  51  :  0.0\n",
      "time:  53  :  0.004036903381347656\n",
      "time:  55  :  0.0\n",
      "time:  57  :  0.004289865493774414\n",
      "time:  59  :  0.0009918212890625\n",
      "time:  61  :  0.0019466876983642578\n",
      "time:  63  :  0.000997304916381836\n",
      "time:  65  :  0.0\n",
      "time:  67  :  0.004054069519042969\n",
      "time:  69  :  0.0\n",
      "time:  71  :  0.0\n",
      "time:  73  :  0.0039997100830078125\n",
      "time:  75  :  0.0\n",
      "time:  77  :  0.0\n",
      "time:  79  :  0.0\n",
      "time:  81  :  0.0009996891021728516\n",
      "time:  83  :  0.0\n",
      "time:  85  :  0.006073713302612305\n",
      "time:  87  :  0.0\n",
      "time:  89  :  0.0\n",
      "time:  91  :  0.0\n",
      "time:  93  :  0.00400090217590332\n",
      "time:  95  :  0.0\n",
      "time:  97  :  0.0\n",
      "time:  99  :  0.0\n",
      "done\n"
     ]
    }
   ],
   "source": [
    "listt=[]\n",
    "for k in range(1,100):\n",
    "    if k%2!=0:\n",
    "        start=t.time()\n",
    "        listt.append([k,accuracy(k)])\n",
    "        print ('time: ',k,' : ',t.time()-start)\n",
    "print ('done')"
   ]
  },
  {
   "cell_type": "code",
   "execution_count": 17,
   "metadata": {},
   "outputs": [
    {
     "name": "stdout",
     "output_type": "stream",
     "text": [
      "[[1, 0.5], [3, 0.5], [5, 0.5], [7, 0.5], [9, 0.5], [11, 0.5], [13, 0.5], [15, 0.5], [17, 0.5], [19, 0.5], [21, 0.5], [23, 0.5], [25, 0.5], [27, 0.5], [29, 0.5], [31, 0.5], [33, 0.5], [35, 0.5], [37, 0.5], [39, 0.5], [41, 0.5], [43, 0.5], [45, 0.5], [47, 0.5], [49, 0.5], [51, 0.5], [53, 0.5], [55, 0.5], [57, 0.5], [59, 0.5], [61, 0.5], [63, 0.5], [65, 0.5], [67, 0.5], [69, 0.5], [71, 0.5], [73, 0.5], [75, 0.5], [77, 0.5], [79, 0.5], [81, 0.5], [83, 0.5], [85, 0.5], [87, 0.5], [89, 0.5], [91, 0.5], [93, 0.5], [95, 0.5], [97, 0.5], [99, 0.5]]\n"
     ]
    }
   ],
   "source": [
    "print(listt)"
   ]
  },
  {
   "cell_type": "code",
   "execution_count": 18,
   "metadata": {},
   "outputs": [
    {
     "data": {
      "text/plain": [
       "0.5"
      ]
     },
     "execution_count": 18,
     "metadata": {},
     "output_type": "execute_result"
    }
   ],
   "source": [
    "accuracy(7)"
   ]
  },
  {
   "cell_type": "code",
   "execution_count": null,
   "metadata": {},
   "outputs": [],
   "source": []
  }
 ],
 "metadata": {
  "kernelspec": {
   "display_name": "Python 3",
   "language": "python",
   "name": "python3"
  },
  "language_info": {
   "codemirror_mode": {
    "name": "ipython",
    "version": 3
   },
   "file_extension": ".py",
   "mimetype": "text/x-python",
   "name": "python",
   "nbconvert_exporter": "python",
   "pygments_lexer": "ipython3",
   "version": "3.7.3"
  }
 },
 "nbformat": 4,
 "nbformat_minor": 2
}
