{
 "cells": [
  {
   "cell_type": "code",
   "execution_count": 1,
   "metadata": {},
   "outputs": [],
   "source": [
    "import numpy as np\n",
    "import matplotlib.pyplot as plt"
   ]
  },
  {
   "cell_type": "code",
   "execution_count": 2,
   "metadata": {},
   "outputs": [],
   "source": [
    "data_set=[[1,1],[1,2],[2,1],[2,2],[3,3],[5,5],[5,6],[6,5],[6,7]]"
   ]
  },
  {
   "cell_type": "code",
   "execution_count": 15,
   "metadata": {},
   "outputs": [],
   "source": [
    "x=np.array(data_set)"
   ]
  },
  {
   "cell_type": "code",
   "execution_count": 16,
   "metadata": {},
   "outputs": [
    {
     "data": {
      "text/plain": [
       "<matplotlib.collections.PathCollection at 0x2a0e54885c0>"
      ]
     },
     "execution_count": 16,
     "metadata": {},
     "output_type": "execute_result"
    },
    {
     "data": {
      "image/png": "[encoded data removed]",
      "text/plain": [
       "<Figure size 432x288 with 1 Axes>"
      ]
     },
     "metadata": {
      "needs_background": "light"
     },
     "output_type": "display_data"
    }
   ],
   "source": [
    "plt.scatter(x[:,0],x[:,1],s=100)"
   ]
  },
  {
   "cell_type": "code",
   "execution_count": 3,
   "metadata": {},
   "outputs": [
    {
     "data": {
      "text/plain": [
       "[1.0,\n",
       " 1.0,\n",
       " 1.4142135623730951,\n",
       " 2.8284271247461903,\n",
       " 5.656854249492381,\n",
       " 6.4031242374328485,\n",
       " 6.4031242374328485,\n",
       " 7.810249675906654,\n",
       " 1.0,\n",
       " 1.4142135623730951,\n",
       " 1.0,\n",
       " 2.23606797749979,\n",
       " 5.0,\n",
       " 5.656854249492381,\n",
       " 5.830951894845301,\n",
       " 7.0710678118654755,\n",
       " 1.0,\n",
       " 1.4142135623730951,\n",
       " 1.0,\n",
       " 2.23606797749979,\n",
       " 5.0,\n",
       " 5.830951894845301,\n",
       " 5.656854249492381,\n",
       " 7.211102550927978,\n",
       " 1.4142135623730951,\n",
       " 1.0,\n",
       " 1.0,\n",
       " 1.4142135623730951,\n",
       " 4.242640687119285,\n",
       " 5.0,\n",
       " 5.0,\n",
       " 6.4031242374328485,\n",
       " 2.8284271247461903,\n",
       " 2.23606797749979,\n",
       " 2.23606797749979,\n",
       " 1.4142135623730951,\n",
       " 2.8284271247461903,\n",
       " 3.605551275463989,\n",
       " 3.605551275463989,\n",
       " 5.0,\n",
       " 5.656854249492381,\n",
       " 5.0,\n",
       " 5.0,\n",
       " 4.242640687119285,\n",
       " 2.8284271247461903,\n",
       " 1.0,\n",
       " 1.0,\n",
       " 2.23606797749979,\n",
       " 6.4031242374328485,\n",
       " 5.656854249492381,\n",
       " 5.830951894845301,\n",
       " 5.0,\n",
       " 3.605551275463989,\n",
       " 1.0,\n",
       " 1.4142135623730951,\n",
       " 1.4142135623730951,\n",
       " 6.4031242374328485,\n",
       " 5.830951894845301,\n",
       " 5.656854249492381,\n",
       " 5.0,\n",
       " 3.605551275463989,\n",
       " 1.0,\n",
       " 1.4142135623730951,\n",
       " 2.0,\n",
       " 7.810249675906654,\n",
       " 7.0710678118654755,\n",
       " 7.211102550927978,\n",
       " 6.4031242374328485,\n",
       " 5.0,\n",
       " 2.23606797749979,\n",
       " 1.4142135623730951,\n",
       " 2.0]"
      ]
     },
     "execution_count": 3,
     "metadata": {},
     "output_type": "execute_result"
    }
   ],
   "source": [
    "def dist(features,predict):\n",
    "    distance=np.linalg.norm(np.array(features)-np.array(predict))\n",
    "    return distance\n",
    "\n",
    "def distance(features_value):\n",
    "    distan=[]\n",
    "    for j in features_value:\n",
    "        \n",
    "        for i in features_value:\n",
    "            if i!=j:\n",
    "                d=dist(i,j)\n",
    "                distan.append(d)\n",
    "    return distan\n",
    "distance(data_set)\n"
   ]
  },
  {
   "cell_type": "code",
   "execution_count": 4,
   "metadata": {},
   "outputs": [
    {
     "data": {
      "text/plain": [
       "{(1, 1): [(1, 2), (2, 1), (2, 2), (3, 3)],\n",
       " (1, 2): [(1, 1), (2, 1), (2, 2), (3, 3)],\n",
       " (2, 1): [(1, 1), (1, 2), (2, 2), (3, 3)],\n",
       " (2, 2): [(1, 1), (1, 2), (2, 1), (3, 3), (5, 5)],\n",
       " (3, 3): [(1, 1), (1, 2), (2, 1), (2, 2), (5, 5), (5, 6), (6, 5)],\n",
       " (5, 5): [(2, 2), (3, 3), (5, 6), (6, 5), (6, 7)],\n",
       " (5, 6): [(3, 3), (5, 5), (6, 5), (6, 7)],\n",
       " (6, 5): [(3, 3), (5, 5), (5, 6), (6, 7)],\n",
       " (6, 7): [(5, 5), (5, 6), (6, 5)]}"
      ]
     },
     "execution_count": 4,
     "metadata": {},
     "output_type": "execute_result"
    }
   ],
   "source": [
    "d={}\n",
    "for point in data_set:\n",
    "    d[tuple(point)]=[]\n",
    "d\n",
    "for point in data_set:\n",
    "    for p1 in data_set:\n",
    "        if p1!=point:\n",
    "            if np.linalg.norm(np.array(point)-np.array(p1))<5:\n",
    "                d[tuple(point)].append(tuple(p1)) \n",
    "d "
   ]
  },
  {
   "cell_type": "code",
   "execution_count": 5,
   "metadata": {},
   "outputs": [
    {
     "data": {
      "text/plain": [
       "array([[1, 1],\n",
       "       [1, 2],\n",
       "       [2, 1],\n",
       "       [2, 2],\n",
       "       [3, 3],\n",
       "       [5, 5],\n",
       "       [5, 6],\n",
       "       [6, 5],\n",
       "       [6, 7]])"
      ]
     },
     "execution_count": 5,
     "metadata": {},
     "output_type": "execute_result"
    }
   ],
   "source": [
    "x=np.array(data_set)\n",
    "x"
   ]
  },
  {
   "cell_type": "code",
   "execution_count": 6,
   "metadata": {},
   "outputs": [],
   "source": [
    "clusters={tuple(point):[] for point in x}\n",
    "radius=3\n",
    "delete_list=[]\n",
    "for cluster in clusters:\n",
    "    if cluster not in delete_list:\n",
    "        for point in clusters:\n",
    "            if np.linalg.norm(np.array(point)-np.array(cluster))<=radius:\n",
    "                if point not in delete_list:\n",
    "                    clusters[cluster].append(point)\n",
    "                    delete_list.append(point)\n",
    "                else:\n",
    "                    pass"
   ]
  },
  {
   "cell_type": "code",
   "execution_count": 7,
   "metadata": {},
   "outputs": [
    {
     "data": {
      "text/plain": [
       "{(1, 1): [(1, 1), (1, 2), (2, 1), (2, 2), (3, 3)],\n",
       " (1, 2): [],\n",
       " (2, 1): [],\n",
       " (2, 2): [],\n",
       " (3, 3): [],\n",
       " (5, 5): [(5, 5), (5, 6), (6, 5), (6, 7)],\n",
       " (5, 6): [],\n",
       " (6, 5): [],\n",
       " (6, 7): []}"
      ]
     },
     "execution_count": 7,
     "metadata": {},
     "output_type": "execute_result"
    }
   ],
   "source": [
    "clusters"
   ]
  },
  {
   "cell_type": "code",
   "execution_count": 8,
   "metadata": {},
   "outputs": [],
   "source": [
    "for key in list(clusters.keys()):\n",
    "    if clusters[key]==[]:\n",
    "        del clusters[key]"
   ]
  },
  {
   "cell_type": "code",
   "execution_count": 9,
   "metadata": {},
   "outputs": [
    {
     "data": {
      "text/plain": [
       "{(1, 1): [(1, 1), (1, 2), (2, 1), (2, 2), (3, 3)],\n",
       " (5, 5): [(5, 5), (5, 6), (6, 5), (6, 7)]}"
      ]
     },
     "execution_count": 9,
     "metadata": {},
     "output_type": "execute_result"
    }
   ],
   "source": [
    "clusters"
   ]
  },
  {
   "cell_type": "code",
   "execution_count": 10,
   "metadata": {},
   "outputs": [],
   "source": [
    "for i,key in enumerate(list(clusters.keys())):\n",
    "    clusters[i]=clusters[key]\n",
    "    del clusters[key]"
   ]
  },
  {
   "cell_type": "code",
   "execution_count": 11,
   "metadata": {},
   "outputs": [
    {
     "data": {
      "text/plain": [
       "{0: [(1, 1), (1, 2), (2, 1), (2, 2), (3, 3)],\n",
       " 1: [(5, 5), (5, 6), (6, 5), (6, 7)]}"
      ]
     },
     "execution_count": 11,
     "metadata": {},
     "output_type": "execute_result"
    }
   ],
   "source": [
    "clusters"
   ]
  },
  {
   "cell_type": "code",
   "execution_count": 12,
   "metadata": {},
   "outputs": [],
   "source": [
    "colors=['r','g','b','c','y']"
   ]
  },
  {
   "cell_type": "code",
   "execution_count": 13,
   "metadata": {},
   "outputs": [
    {
     "data": {
      "text/plain": [
       "<function matplotlib.pyplot.show(*args, **kw)>"
      ]
     },
     "execution_count": 13,
     "metadata": {},
     "output_type": "execute_result"
    },
    {
     "data": {
      "image/png": "[encoded data removed]",
      "text/plain": [
       "<Figure size 432x288 with 1 Axes>"
      ]
     },
     "metadata": {
      "needs_background": "light"
     },
     "output_type": "display_data"
    }
   ],
   "source": [
    "for point in clusters:\n",
    "    for pt in clusters[point]:\n",
    "        plt.scatter(pt[0],pt[1],s=50,color=colors[point])\n",
    "plt.show"
   ]
  },
  {
   "cell_type": "code",
   "execution_count": null,
   "metadata": {},
   "outputs": [],
   "source": []
  }
 ],
 "metadata": {
  "kernelspec": {
   "display_name": "Python 3",
   "language": "python",
   "name": "python3"
  },
  "language_info": {
   "codemirror_mode": {
    "name": "ipython",
    "version": 3
   },
   "file_extension": ".py",
   "mimetype": "text/x-python",
   "name": "python",
   "nbconvert_exporter": "python",
   "pygments_lexer": "ipython3",
   "version": "3.7.3"
  }
 },
 "nbformat": 4,
 "nbformat_minor": 2
}
