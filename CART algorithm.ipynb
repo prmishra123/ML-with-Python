{
 "cells": [
  {
   "cell_type": "code",
   "execution_count": 17,
   "metadata": {},
   "outputs": [
    {
     "data": {
      "text/plain": [
       "{'green', 'red', 'yellow'}"
      ]
     },
     "execution_count": 17,
     "metadata": {},
     "output_type": "execute_result"
    }
   ],
   "source": [
    "training_data=[\n",
    "    ['green',3,'mango'],\n",
    "    ['yellow',3,'mango'],\n",
    "    ['red',1,'grape'],\n",
    "    ['red',1,'grape'],\n",
    "    ['yellow',3,'lemon']\n",
    "]\n",
    "\n",
    "header=[\"color\",\"diameter\",\"label\"]\n",
    "\n",
    "def unique_vals(rows,col):\n",
    "    return set([row[col] for row in rows])\n",
    "unique_vals(training_data,0)\n",
    "#unique_vals(training_data,1)"
   ]
  },
  {
   "cell_type": "code",
   "execution_count": 18,
   "metadata": {},
   "outputs": [
    {
     "data": {
      "text/plain": [
       "{1, 3}"
      ]
     },
     "execution_count": 18,
     "metadata": {},
     "output_type": "execute_result"
    }
   ],
   "source": [
    "unique_vals(training_data,1)"
   ]
  },
  {
   "cell_type": "code",
   "execution_count": 19,
   "metadata": {},
   "outputs": [
    {
     "data": {
      "text/plain": [
       "{'mango': 2, 'grape': 2, 'lemon': 1}"
      ]
     },
     "execution_count": 19,
     "metadata": {},
     "output_type": "execute_result"
    }
   ],
   "source": [
    "def class_counts(rows):\n",
    "    counts={}\n",
    "    for row in rows:\n",
    "        label=row[-1]\n",
    "        if label not in counts:\n",
    "            counts[label]=0\n",
    "        counts[label]+=1\n",
    "    return counts\n",
    "class_counts(training_data)"
   ]
  },
  {
   "cell_type": "code",
   "execution_count": 22,
   "metadata": {},
   "outputs": [
    {
     "data": {
      "text/plain": [
       "True"
      ]
     },
     "execution_count": 22,
     "metadata": {},
     "output_type": "execute_result"
    }
   ],
   "source": [
    "def is_numeric(value):\n",
    "    return isinstance(value,int) or isinstance(value,float)\n",
    "is_numeric(7)\n",
    "#is_numeric(\"red\")"
   ]
  },
  {
   "cell_type": "code",
   "execution_count": 4,
   "metadata": {},
   "outputs": [],
   "source": [
    "class Question:\n",
    "    def __init__(self,column,value):\n",
    "        self.column=column\n",
    "        self.value=value\n",
    "        \n",
    "    def match(self,example):\n",
    "        val=example[self.column]\n",
    "        if is_numeric(val):\n",
    "            return val>=self.value\n",
    "        else:\n",
    "            return val==self.value\n",
    "        \n",
    "    def __repr__(self):\n",
    "        condition =\"==\"\n",
    "        if is_numeric(self.value):\n",
    "            condition = \">=\"\n",
    "        return \"Is %s %s %s?\" %(header[self.column],condition,str(self.value))"
   ]
  },
  {
   "cell_type": "code",
   "execution_count": 46,
   "metadata": {},
   "outputs": [
    {
     "data": {
      "text/plain": [
       "[['green', 3, 'mango'], ['yellow', 3, 'mango'], ['yellow', 3, 'lemon']]"
      ]
     },
     "execution_count": 46,
     "metadata": {},
     "output_type": "execute_result"
    }
   ],
   "source": [
    "def partition(rows,question):\n",
    "    true_rows,false_rows = [],[]\n",
    "    for row in rows:\n",
    "        if question.match(row):\n",
    "            true_rows.append(row)\n",
    "        else:\n",
    "            false_rows.append(row)\n",
    "    return true_rows,false_rows\n",
    "true_rows,false_rows=partition(training_data,Question(0,'red'))\n",
    "#true_rows\n",
    "false_rows"
   ]
  },
  {
   "cell_type": "code",
   "execution_count": 47,
   "metadata": {},
   "outputs": [
    {
     "data": {
      "text/plain": [
       "[['red', 1, 'grape'], ['red', 1, 'grape']]"
      ]
     },
     "execution_count": 47,
     "metadata": {},
     "output_type": "execute_result"
    }
   ],
   "source": [
    "true_rows"
   ]
  },
  {
   "cell_type": "code",
   "execution_count": 30,
   "metadata": {},
   "outputs": [],
   "source": [
    "def gini(rows):\n",
    "    counts=class_counts(rows)\n",
    "    impurity = 1\n",
    "    for lbl  in counts:\n",
    "        prob_of_lbl=counts[lbl]/float(len(rows))\n",
    "        impurity -=prob_of_lbl**2\n",
    "    return impurity"
   ]
  },
  {
   "cell_type": "code",
   "execution_count": 48,
   "metadata": {},
   "outputs": [
    {
     "data": {
      "text/plain": [
       "0.6399999999999999"
      ]
     },
     "execution_count": 48,
     "metadata": {},
     "output_type": "execute_result"
    }
   ],
   "source": [
    "gini(training_data)"
   ]
  },
  {
   "cell_type": "code",
   "execution_count": 31,
   "metadata": {},
   "outputs": [],
   "source": [
    "def info_gain(left,right,current_uncertainty):\n",
    "    p=float(len(left))/(len(left)+len(right))\n",
    "    return current_uncertainty-p*gini(left)-(1-p)*gini(right)"
   ]
  },
  {
   "cell_type": "code",
   "execution_count": 32,
   "metadata": {},
   "outputs": [],
   "source": [
    "def find_best_split(rows):\n",
    "    best_gain=0\n",
    "    best_question=None\n",
    "    current_uncertainty=gini(rows)\n",
    "    n_features=len(rows[0])-1\n",
    "    for col in range(n_features):\n",
    "        values=set([row[col] for row in rows])\n",
    "        for val in values:\n",
    "            question= Question(col,val)\n",
    "            true_rows,false_rows=partition(rows,question)\n",
    "            \n",
    "            if len(true_rows)==0 or len(false_rows)==0:\n",
    "                continue\n",
    "            gain = info_gain(true_rows,false_rows,current_uncertainty)\n",
    "            \n",
    "            if gain>=best_gain:\n",
    "                best_gain,best_question=gain,question\n",
    "    return best_gain,best_question"
   ]
  },
  {
   "cell_type": "code",
   "execution_count": 36,
   "metadata": {},
   "outputs": [
    {
     "data": {
      "text/plain": [
       "0.6399999999999999"
      ]
     },
     "execution_count": 36,
     "metadata": {},
     "output_type": "execute_result"
    }
   ],
   "source": [
    "current_uncertainty=gini(training_data)\n",
    "current_uncertainty"
   ]
  },
  {
   "cell_type": "code",
   "execution_count": 45,
   "metadata": {},
   "outputs": [
    {
     "data": {
      "text/plain": [
       "0.37333333333333324"
      ]
     },
     "execution_count": 45,
     "metadata": {},
     "output_type": "execute_result"
    }
   ],
   "source": [
    "true_rows,false_rows=partition(training_data,Question(1,3))\n",
    "true_rows\n",
    "info_gain(true_rows,false_rows,current_uncertainty)\n"
   ]
  },
  {
   "cell_type": "code",
   "execution_count": 33,
   "metadata": {},
   "outputs": [],
   "source": [
    "class Leaf:\n",
    "    def __init__(self,rows):\n",
    "        self.predictions=class_counts(rows)\n",
    "class Decision_node:\n",
    "    def __init__(self,question,true_branch,false_branch):\n",
    "        self.question=question\n",
    "        self.true_branch=true_branch\n",
    "        self.false_branch=false_branch\n",
    "        \n",
    "def build_tree(rows):\n",
    "    gain,question=find_best_split(rows)\n",
    "    \n",
    "    if gain ==0:\n",
    "        return Leaf(rows)\n",
    "    true_rows,false_rows = partition(rows,question)\n",
    "    true_branch=build_tree(true_rows)\n",
    "    false_branch=build_tree(false_rows)\n",
    "    \n",
    "    return Decision_node(question,true_branch,false_branch)"
   ]
  },
  {
   "cell_type": "code",
   "execution_count": 39,
   "metadata": {},
   "outputs": [
    {
     "data": {
      "text/plain": [
       "<__main__.Decision_node at 0x1bdf1821c50>"
      ]
     },
     "execution_count": 39,
     "metadata": {},
     "output_type": "execute_result"
    }
   ],
   "source": [
    "my_tree= build_tree(training_data)\n",
    "my_tree"
   ]
  },
  {
   "cell_type": "code",
   "execution_count": 41,
   "metadata": {},
   "outputs": [],
   "source": [
    "def print_tree(node,spacing=\"\"):\n",
    "    if isinstance(node,Leaf):\n",
    "        print(spacing + \"Predict\",node.predictions)\n",
    "        return\n",
    "    print(spacing+ str(node.question))\n",
    "    print(spacing +'--> True:')\n",
    "    print_tree(node.true_branch,spacing+\" \")\n",
    "    \n",
    "    print(spacing +'--> False:')\n",
    "    print_tree(node.false_branch,spacing+\" \")\n",
    "    "
   ]
  },
  {
   "cell_type": "code",
   "execution_count": 51,
   "metadata": {},
   "outputs": [],
   "source": [
    "def classify(row,node):\n",
    "    if isinstance(node,Leaf):\n",
    "        return node.predictions\n",
    "    if node.question.match(row):\n",
    "        return classify(row,node.true_branch)\n",
    "    else:\n",
    "        return classify(row,node.false_branch)"
   ]
  },
  {
   "cell_type": "code",
   "execution_count": 43,
   "metadata": {},
   "outputs": [],
   "source": [
    "def print_leaf(counts):\n",
    "    total= sum(counts.values()) *1.0\n",
    "    probs ={}\n",
    "    for lbl in counts.keys():\n",
    "        probs[lbl]= str(int(counts[lbl]/total*100)) +\"%\"\n",
    "    return probs"
   ]
  },
  {
   "cell_type": "code",
   "execution_count": 44,
   "metadata": {},
   "outputs": [
    {
     "name": "stdout",
     "output_type": "stream",
     "text": [
      "Is diameter >= 3?\n",
      "--> True:\n",
      " Is color == yellow?\n",
      " --> True:\n",
      "  Predict {'mango': 1, 'lemon': 1}\n",
      " --> False:\n",
      "  Predict {'mango': 1}\n",
      "--> False:\n",
      " Predict {'grape': 2}\n"
     ]
    }
   ],
   "source": [
    "if __name__=='__main__':\n",
    "    my_tree=build_tree(training_data)\n",
    "    print_tree(my_tree)"
   ]
  },
  {
   "cell_type": "code",
   "execution_count": 52,
   "metadata": {},
   "outputs": [
    {
     "name": "stdout",
     "output_type": "stream",
     "text": [
      "actual:mango. predicted:{'mango': '100%'}\n",
      "actual:mango. predicted:{'mango': '50%', 'lemon': '50%'}\n",
      "actual:grape. predicted:{'grape': '100%'}\n",
      "actual:grape. predicted:{'grape': '100%'}\n",
      "actual:lemon. predicted:{'mango': '50%', 'lemon': '50%'}\n"
     ]
    }
   ],
   "source": [
    "if __name__=='__main__':\n",
    "    \n",
    "    testing_data=[\n",
    "        ['green',3,'mango'],\n",
    "        ['yellow',4,'mango'],\n",
    "        ['red',2,'grape'],\n",
    "        ['red',1,'grape'],\n",
    "        ['yellow',3,'lemon']\n",
    "    ]\n",
    "    for row in testing_data:\n",
    "        print(\"actual:%s. predicted:%s\"%(row[-1],print_leaf(classify(row,my_tree))))\n"
   ]
  },
  {
   "cell_type": "code",
   "execution_count": null,
   "metadata": {},
   "outputs": [],
   "source": []
  }
 ],
 "metadata": {
  "kernelspec": {
   "display_name": "Python 3",
   "language": "python",
   "name": "python3"
  },
  "language_info": {
   "codemirror_mode": {
    "name": "ipython",
    "version": 3
   },
   "file_extension": ".py",
   "mimetype": "text/x-python",
   "name": "python",
   "nbconvert_exporter": "python",
   "pygments_lexer": "ipython3",
   "version": "3.7.3"
  }
 },
 "nbformat": 4,
 "nbformat_minor": 2
}
